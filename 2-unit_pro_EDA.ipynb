mport warnings
from dateutil import parser
import dateutil
from datetime import datetime, timedelta
import datetime
from plotly.offline import download_plotlyjs, init_notebook_mode, plot, iplot
import cufflinks as cf
import seaborn as sns
import numpy as np
import pandas as pd
from statistics import variance
# импорт дробей как значений параметров
from fractions import Fraction as fr
import statistics
import matplotlib.pyplot as plt
%matplotlib inline
warnings.simplefilter('ignore')

pd.set_option('display.max_rows', 50)  # показывать больше строк
pd.set_option('display.max_columns', 50)  # показывать больше колонок
Описание датасета
1 school — аббревиатура школы, в которой учится ученик

2 sex — пол ученика ('F' - женский, 'M' - мужской)

3 age — возраст ученика (от 15 до 22)

4 address — тип адреса ученика ('U' - городской, 'R' - за городом)

5 famsize — размер семьи('LE3' <= 3, 'GT3' >3)

6 Pstatus — статус совместного жилья родителей ('T' - живут вместе 'A' - раздельно)

7 Medu — образование матери (0 - нет, 1 - 4 класса, 2 - 5-9 классы, 3 - среднее специальное или 11 классов, 4 - высшее)

8 Fedu — образование отца (0 - нет, 1 - 4 класса, 2 - 5-9 классы, 3 - среднее специальное или 11 классов, 4 - высшее)

9 Mjob — работа матери ('teacher' - учитель, 'health' - сфера здравоохранения, 'services' - гос служба, 'at_home' - не работает, 'other' - другое)

10 Fjob — работа отца ('teacher' - учитель, 'health' - сфера здравоохранения, 'services' - гос служба, 'at_home' - не работает, 'other' - другое)

11 reason — причина выбора школы ('home' - близость к дому, 'reputation' - репутация школы, 'course' - образовательная программа, 'other' - другое)

12 guardian — опекун ('mother' - мать, 'father' - отец, 'other' - другое)

13 traveltime — время в пути до школы (1 - <15 мин., 2 - 15-30 мин., 3 - 30-60 мин., 4 - >60 мин.)

14 studytime — время на учёбу помимо школы в неделю (1 - <2 часов, 2 - 2-5 часов, 3 - 5-10 часов, 4 - >10 часов)

15 failures — количество внеучебных неудач (n, если 1<=n<=3, иначе 0)

16 schoolsup — дополнительная образовательная поддержка (yes или no)

17 famsup — семейная образовательная поддержка (yes или no)

18 paid — дополнительные платные занятия по математике (yes или no)

19 activities — дополнительные внеучебные занятия (yes или no)

20 nursery — посещал детский сад (yes или no)

21 higher — хочет получить высшее образование (yes или no)

22 internet — наличие интернета дома (yes или no)

23 romantic — в романтических отношениях (yes или no)

24 famrel — семейные отношения (от 1 - очень плохо до 5 - очень хорошо)

25 freetime — свободное время после школы (от 1 - очень мало до 5 - очень мого)

26 goout — проведение времени с друзьями (от 1 - очень мало до 5 - очень много)

27 health — текущее состояние здоровья (от 1 - очень плохо до 5 - очень хорошо)

28 absences — количество пропущенных занятий

29 score — баллы по госэкзамену по математике

Прочитаем фай stud_math.xls и посмотрим информацию в нем
stud = pd.read_csv('stud_math.xls')
display(stud.head(10))
stud.info()
school	sex	age	address	famsize	Pstatus	Medu	Fedu	Mjob	Fjob	reason	guardian	traveltime	studytime	failures	schoolsup	famsup	paid	activities	nursery	studytime, granular	higher	internet	romantic	famrel	freetime	goout	health	absences	score
0	GP	F	18	U	NaN	A	4.0	4.0	at_home	teacher	course	mother	2.0	2.0	0.0	yes	no	no	no	yes	-6.0	yes	NaN	no	4.0	3.0	4.0	3.0	6.0	30.0
1	GP	F	17	U	GT3	NaN	1.0	1.0	at_home	other	course	father	1.0	2.0	0.0	no	yes	no	no	no	-6.0	yes	yes	no	5.0	3.0	3.0	3.0	4.0	30.0
2	GP	F	15	U	LE3	T	1.0	1.0	at_home	other	other	mother	1.0	2.0	3.0	yes	no	NaN	no	yes	-6.0	yes	yes	NaN	4.0	3.0	2.0	3.0	10.0	50.0
3	GP	F	15	U	GT3	T	4.0	2.0	health	NaN	home	mother	1.0	3.0	0.0	no	yes	yes	yes	yes	-9.0	yes	yes	yes	3.0	2.0	2.0	5.0	2.0	75.0
4	GP	F	16	U	GT3	T	3.0	3.0	other	other	home	father	1.0	2.0	0.0	no	yes	yes	no	yes	-6.0	yes	no	no	4.0	3.0	2.0	5.0	4.0	50.0
5	GP	M	16	U	LE3	T	4.0	3.0	services	other	reputation	mother	1.0	2.0	0.0	no	yes	yes	yes	yes	-6.0	yes	yes	no	5.0	4.0	2.0	5.0	10.0	75.0
6	GP	M	16	NaN	LE3	T	2.0	2.0	other	other	home	mother	1.0	2.0	0.0	no	no	no	no	yes	-6.0	yes	yes	no	4.0	4.0	4.0	3.0	0.0	55.0
7	GP	F	17	U	GT3	A	4.0	4.0	other	teacher	home	mother	2.0	2.0	0.0	yes	yes	no	no	yes	-6.0	yes	no	no	4.0	1.0	4.0	1.0	6.0	30.0
8	GP	M	15	U	LE3	A	3.0	2.0	services	other	home	mother	1.0	2.0	0.0	no	yes	yes	no	yes	-6.0	yes	yes	no	NaN	2.0	2.0	1.0	0.0	95.0
9	GP	M	15	U	NaN	NaN	3.0	4.0	other	other	home	mother	1.0	2.0	0.0	no	yes	yes	yes	yes	-6.0	yes	yes	no	5.0	5.0	1.0	5.0	0.0	75.0
<class 'pandas.core.frame.DataFrame'>
RangeIndex: 395 entries, 0 to 394
Data columns (total 30 columns):
 #   Column               Non-Null Count  Dtype  
---  ------               --------------  -----  
 0   school               395 non-null    object 
 1   sex                  395 non-null    object 
 2   age                  395 non-null    int64  
 3   address              378 non-null    object 
 4   famsize              368 non-null    object 
 5   Pstatus              350 non-null    object 
 6   Medu                 392 non-null    float64
 7   Fedu                 371 non-null    float64
 8   Mjob                 376 non-null    object 
 9   Fjob                 359 non-null    object 
 10  reason               378 non-null    object 
 11  guardian             364 non-null    object 
 12  traveltime           367 non-null    float64
 13  studytime            388 non-null    float64
 14  failures             373 non-null    float64
 15  schoolsup            386 non-null    object 
 16  famsup               356 non-null    object 
 17  paid                 355 non-null    object 
 18  activities           381 non-null    object 
 19  nursery              379 non-null    object 
 20  studytime, granular  388 non-null    float64
 21  higher               375 non-null    object 
 22  internet             361 non-null    object 
 23  romantic             364 non-null    object 
 24  famrel               368 non-null    float64
 25  freetime             384 non-null    float64
 26  goout                387 non-null    float64
 27  health               380 non-null    float64
 28  absences             383 non-null    float64
 29  score                389 non-null    float64
dtypes: float64(12), int64(1), object(17)
memory usage: 92.7+ KB
1. Первичная обработка данных
# Полсмотрим название столбцов в файле
stud.columns
Index(['school', 'sex', 'age', 'address', 'famsize', 'Pstatus', 'Medu', 'Fedu',
       'Mjob', 'Fjob', 'reason', 'guardian', 'traveltime', 'studytime',
       'failures', 'schoolsup', 'famsup', 'paid', 'activities', 'nursery',
       'studytime, granular', 'higher', 'internet', 'romantic', 'famrel',
       'freetime', 'goout', 'health', 'absences', 'score'],
      dtype='object')
#Посчитаем количество пустых значений по столбцам
stud.isnull().sum(axis=0)
school                  0
sex                     0
age                     0
address                17
famsize                27
Pstatus                45
Medu                    3
Fedu                   24
Mjob                   19
Fjob                   36
reason                 17
guardian               31
traveltime             28
studytime               7
failures               22
schoolsup               9
famsup                 39
paid                   40
activities             14
nursery                16
studytime, granular     7
higher                 20
internet               34
romantic               31
famrel                 27
freetime               11
goout                   8
health                 15
absences               12
score                   6
dtype: int64
Заполним пропуски значением None

def change_none(column):
    stud[column] = stud[column].apply(lambda x: None if pd.isna(x) == True else x)
for col in stud.columns:
    change_none(col)
#Изменим имя колонки, чтобы было удобнее работать
stud.rename(columns={'studytime, granular':'granular'}, inplace=True) 
Заменим медианными значениями недостающие данные в столбцах цифрового формата.

# Medu - образование матери
median_Medu = stud.Medu.median() 
stud.Medu = stud.Medu.apply(lambda x: median_Medu if pd.isna(x) == True else x)
​
# Fedu - образование отца
median_Fedu = stud.Fedu.median() 
stud.Fedu = stud.Fedu.apply(lambda x: median_Fedu if pd.isna(x) == True else x)
​
# traveltime - время в пути до школы
median_traveltime = stud.traveltime.median() 
stud.traveltime = stud.traveltime.apply(lambda x: median_traveltime if pd.isna(x) == True else x)
​
# studytime — время на учёбу помимо школы в неделю
median_studytime = stud.studytime.median() 
stud.studytime = stud.studytime.apply(lambda x: median_studytime if pd.isna(x) == True else x)
​
# failures — количество внеучебных неудач
median_failures = stud.failures.median() 
stud.failures = stud.failures.apply(lambda x: median_failures if pd.isna(x) == True else x)
​
# studytime, granular
median_granular = stud.granular.median()
stud.granular = stud.granular.apply(lambda x: median_granular if pd.isna(x) == True else x)
​
# famrel - семейные отношения
median_famrel = stud.famrel.median()
stud.famrel = stud.famrel.apply(lambda x: median_famrel if pd.isna(x) == True else x)
​
# freetime — свободное время после школы 
median_freetime = stud.freetime.median()
stud.freetime = stud.freetime.apply(lambda x: median_freetime if pd.isna(x) == True else x)
​
# goout - проведение времени с друзьями
median_goout = stud.goout.median()
stud.goout = stud.goout.apply(lambda x: median_goout if pd.isna(x) == True else x)
​
# health — текущее состояние здоровья
median_health = stud.health.median()
stud.health = stud.health.apply(lambda x: median_health if pd.isna(x) == True else x)
​
# absences — количество пропущенных занятий
median_absences = stud.absences.median()
stud.absences = stud.absences.apply(lambda x: median_absences if pd.isna(x) == True else x)
​
# score — баллы по госэкзамену по математике
median_score = stud.score.median()
stud.score = stud.score.apply(lambda x: median_score if pd.isna(x) == True else x)
2. Распределение признака для числовых переменных
Посмотрим на распределение признака для числовых переменных, устраним выбросы

stud.plot()
<matplotlib.axes._subplots.AxesSubplot at 0x1b256b54b88>

score
Начнем анализ с основного столбца с данными - Оценка/балл за экзамен.

stud.score.hist()
stud.score.describe()
count    395.000000
mean      52.303797
std       22.746314
min        0.000000
25%       40.000000
50%       55.000000
75%       70.000000
max      100.000000
Name: score, dtype: float64

print(stud.score.nunique())
plt.plot(stud.score)
18
[<matplotlib.lines.Line2D at 0x1b2569a6708>]

В значениях нет немативированных выбросов, поэтому оставим его без изменений

age
# Посмотрим на столбец возраст
stud.age.hist()
stud.age.describe()
count    395.000000
mean      16.696203
std        1.276043
min       15.000000
25%       16.000000
50%       17.000000
75%       18.000000
max       22.000000
Name: age, dtype: float64

Основное количество учеников распределено по возротам от 15 до 20 лет. Посмотрим сколько студентов в возрасте от 20 лет

stud[stud.age >= 20]
school	sex	age	address	famsize	Pstatus	Medu	Fedu	Mjob	Fjob	reason	guardian	traveltime	studytime	failures	schoolsup	famsup	paid	activities	nursery	granular	higher	internet	romantic	famrel	freetime	goout	health	absences	score
247	GP	M	22	U	GT3	T	3.0	1.0	services	services	other	mother	1.0	1.0	3.0	no	no	no	no	no	-3.0	no	yes	yes	5.0	4.0	5.0	1.0	16.0	40.0
306	GP	M	20	U	GT3	A	3.0	2.0	services	other	course	other	1.0	1.0	0.0	no	no	no	yes	yes	-3.0	yes	no	no	5.0	5.0	3.0	5.0	0.0	90.0
376	MS	F	20	None	GT3	T	4.0	2.0	health	other	course	None	2.0	3.0	2.0	no	yes	yes	no	no	-9.0	yes	yes	yes	5.0	4.0	3.0	3.0	4.0	75.0
390	MS	M	20	U	LE3	A	2.0	2.0	services	services	course	None	1.0	2.0	2.0	no	yes	yes	no	yes	-6.0	yes	no	no	5.0	5.0	4.0	4.0	212.0	45.0
392	MS	M	21	R	GT3	T	1.0	1.0	other	other	course	None	1.0	1.0	3.0	None	no	no	no	no	-3.0	None	no	no	5.0	5.0	3.0	3.0	3.0	35.0
Всего 5 строк. На наш анализ они большого влияния не окажут, поэтому оставим для анализа данные по строкам с учениками младше 20 лет

stud=stud[stud.age < 20]
Medu
stud.Medu.hist()
stud.Medu.describe()
count    390.000000
mean       2.753846
std        1.094940
min        0.000000
25%        2.000000
50%        3.000000
75%        4.000000
max        4.000000
Name: Medu, dtype: float64

stud[stud.Medu < 0.5]
school	sex	age	address	famsize	Pstatus	Medu	Fedu	Mjob	Fjob	reason	guardian	traveltime	studytime	failures	schoolsup	famsup	paid	activities	nursery	granular	higher	internet	romantic	famrel	freetime	goout	health	absences	score
127	GP	F	19	U	GT3	T	0.0	1.0	at_home	other	course	other	1.0	2.0	3.0	no	None	no	no	no	-6.0	no	no	no	3.0	4.0	2.0	5.0	2.0	45.0
249	GP	M	16	U	GT3	T	0.0	2.0	other	other	other	mother	1.0	1.0	0.0	no	no	yes	no	None	-3.0	yes	yes	no	4.0	3.0	2.0	5.0	0.0	75.0
324	GP	F	17	U	LE3	T	0.0	2.0	at_home	at_home	home	father	2.0	3.0	0.0	no	no	no	no	yes	-9.0	yes	yes	no	3.0	3.0	3.0	2.0	0.0	75.0
В файле всего 3 записи в которых у матери отсутсвует образование, поэтому уберем данные строки

stud=stud[stud.Medu > 0]
#stud.info()
Fedu
Проанализируем столбец с информацией об образовании отца

stud.Fedu.hist()
stud.Fedu.describe()
count    387.000000
mean       2.596899
std        2.181598
min        0.000000
25%        2.000000
50%        2.000000
75%        3.000000
max       40.000000
Name: Fedu, dtype: float64

Мы видим, что в одном из столбцов ошибка - значение 40. Такого параметра образования нет, поэтому удалим стодлбец с данным выбросом.

stud[stud.Fedu == 40]
school	sex	age	address	famsize	Pstatus	Medu	Fedu	Mjob	Fjob	reason	guardian	traveltime	studytime	failures	schoolsup	famsup	paid	activities	nursery	granular	higher	internet	romantic	famrel	freetime	goout	health	absences	score
11	GP	F	15	U	GT3	None	2.0	40.0	services	other	reputation	father	3.0	3.0	0.0	no	yes	no	yes	yes	-9.0	yes	yes	no	5.0	2.0	2.0	4.0	4.0	60.0
stud=stud[stud.Fedu != 40]
failures
stud.failures.hist()
stud.failures.describe()
count    386.000000
mean       0.292746
std        0.683611
min        0.000000
25%        0.000000
50%        0.000000
75%        0.000000
max        3.000000
Name: failures, dtype: float64

Данные без особых выбросов, большая часть данных составляют значение 0 внеучебных неудач

famrel
stud.famrel.hist()
stud.famrel.describe()
count    386.000000
mean       3.930052
std        0.893136
min       -1.000000
25%        4.000000
50%        4.000000
75%        4.000000
max        5.000000
Name: famrel, dtype: float64

Одна из записей имеет значение качества семейных отношений -1. Убербем строку с данным значением.

stud[stud.famrel == -1]
school	sex	age	address	famsize	Pstatus	Medu	Fedu	Mjob	Fjob	reason	guardian	traveltime	studytime	failures	schoolsup	famsup	paid	activities	nursery	granular	higher	internet	romantic	famrel	freetime	goout	health	absences	score
25	GP	F	16	U	GT3	None	2.0	2.0	services	services	home	mother	1.0	1.0	2.0	no	yes	yes	no	no	-3.0	yes	yes	no	-1.0	2.0	2.0	5.0	14.0	40.0
stud=stud[stud.Fedu > 0]
#stud.info()
absences
stud.absences.hist()
stud.absences.describe()
count    384.000000
mean       6.731771
std       20.950481
min        0.000000
25%        0.000000
50%        4.000000
75%        8.000000
max      385.000000
Name: absences, dtype: float64

stud[stud.absences == 385]
school	sex	age	address	famsize	Pstatus	Medu	Fedu	Mjob	Fjob	reason	guardian	traveltime	studytime	failures	schoolsup	famsup	paid	activities	nursery	granular	higher	internet	romantic	famrel	freetime	goout	health	absences	score
222	GP	F	16	U	GT3	T	2.0	3.0	services	teacher	other	mother	1.0	2.0	0.0	yes	None	no	no	yes	-6.0	yes	yes	no	2.0	3.0	1.0	3.0	385.0	85.0
Уберем строку со значением пропущенных занятий 385 - это, скорее всего, нетипичный выброс, который может исказить наш анализ

stud=stud[stud.absences < 385]
#stud.info()
3. Анализ строковых данных
Оценим количество уникальных значений для номинативных переменных.

stud.describe(include = ['object'])
school	sex	address	famsize	Pstatus	Mjob	Fjob	reason	guardian	schoolsup	famsup	paid	activities	nursery	higher	internet	romantic
count	383	383	367	357	339	364	347	366	355	375	346	343	369	368	366	349	352
unique	2	2	2	2	2	5	5	4	3	2	2	2	2	2	2	2	2
top	GP	F	U	GT3	T	other	other	course	mother	no	yes	no	yes	yes	yes	yes	no
freq	340	203	285	252	305	130	189	131	245	325	215	192	191	293	349	297	231
school
pd.DataFrame(stud.school.value_counts())
school
GP	340
MS	43
Mjob
display(pd.DataFrame(stud.Mjob.value_counts()))
print("Значений, встретившихся в столбце :"
      , (stud.Mjob.value_counts()).sum())
stud.loc[:, ['Mjob']].info()
Mjob
other	130
services	93
at_home	56
teacher	54
health	31
Значений, встретившихся в столбце : 364
<class 'pandas.core.frame.DataFrame'>
Int64Index: 383 entries, 0 to 394
Data columns (total 1 columns):
 #   Column  Non-Null Count  Dtype 
---  ------  --------------  ----- 
 0   Mjob    364 non-null    object
dtypes: object(1)
memory usage: 6.0+ KB
Fjob
display(pd.DataFrame(stud.Fjob.value_counts()))
print("Значений, встретившихся в столбце :"
      , (stud.Fjob.value_counts()).sum())
stud.loc[:, ['Fjob']].info()
Fjob
other	189
services	100
teacher	28
at_home	15
health	15
Значений, встретившихся в столбце : 347
<class 'pandas.core.frame.DataFrame'>
Int64Index: 383 entries, 0 to 394
Data columns (total 1 columns):
 #   Column  Non-Null Count  Dtype 
---  ------  --------------  ----- 
 0   Fjob    347 non-null    object
dtypes: object(1)
memory usage: 6.0+ KB
reason
display(pd.DataFrame(stud.reason.value_counts()))
print("Значений, встретившихся в столбце :"
      , (stud.reason.value_counts()).sum())
stud.loc[:, ['reason']].info()
reason
course	131
home	103
reputation	101
other	31
Значений, встретившихся в столбце : 366
<class 'pandas.core.frame.DataFrame'>
Int64Index: 383 entries, 0 to 394
Data columns (total 1 columns):
 #   Column  Non-Null Count  Dtype 
---  ------  --------------  ----- 
 0   reason  366 non-null    object
dtypes: object(1)
memory usage: 6.0+ KB
4. Корреляционный анализ
Проведем корреляционный анализ количественных переменных

Как коррелирует бал на экзамене с различными переменными?

corr = np.corrcoef(stud['score'], stud['Medu'])
corr1 = np.corrcoef(stud['score'], stud['Fedu'])
corr2 = np.corrcoef(stud['score'], stud['traveltime'])
corr3 = np.corrcoef(stud['score'], stud['studytime'])
corr4 = np.corrcoef(stud['score'], stud['failures'])
corr5 = np.corrcoef(stud['score'], stud['granular'])
corr6 = np.corrcoef(stud['score'], stud['famrel'])
corr7 = np.corrcoef(stud['score'], stud['freetime'])
corr8 = np.corrcoef(stud['score'], stud['goout'])
corr9 = np.corrcoef(stud['score'], stud['health'])
corr10 = np.corrcoef(stud['score'], stud['absences'])
corr11 = np.corrcoef(stud['age'], stud['score'])
print(corr)
print()
print(corr1)
print()
print(corr2)
print()
print(corr3)
print()
print(corr4)
print()
print(corr5)
print()
print(corr6)
print()
print(corr7)
print()
print(corr8)
print()
print(corr9)
print()
print(corr10)
print()
print(corr11)
print()
[[1.         0.22921015]
 [0.22921015 1.        ]]

[[1.         0.13104736]
 [0.13104736 1.        ]]

[[ 1.         -0.06266102]
 [-0.06266102  1.        ]]

[[1.         0.11651519]
 [0.11651519 1.        ]]

[[ 1.         -0.33630086]
 [-0.33630086  1.        ]]

[[ 1.         -0.11651519]
 [-0.11651519  1.        ]]

[[1.         0.06226024]
 [0.06226024 1.        ]]

[[1.         0.01965236]
 [0.01965236 1.        ]]

[[ 1.         -0.11239117]
 [-0.11239117  1.        ]]

[[ 1.         -0.07847365]
 [-0.07847365  1.        ]]

[[1.         0.03887241]
 [0.03887241 1.        ]]

[[ 1.         -0.16223391]
 [-0.16223391  1.        ]]

Из полученного анализа видно, что наибольшая корреляция бала на экзамене с переменной "Образование матери" - 0.23 Наименьшая корреляция у оценки на экзамене с переменными "проведение времени с дузьями" и "возрастом учащихся"

5. Проанализируем номинативные переменные
sns.boxplot(x='school',y='score',data=stud,hue='sex')
<matplotlib.axes._subplots.AxesSubplot at 0x1b258cac508>

sns.boxplot(x='address',y='score',data=stud,hue='famsize')
<matplotlib.axes._subplots.AxesSubplot at 0x1b258c0e948>

Вывод:
У учеников, проживающих в городе средний бал одинаковый, в не зависимости от количества членов семьи. При этом, по детям из городских семей с количеством членов более 3-ч человек самый большой разброс по оценкам.

sns.boxplot(x='Pstatus',y='score',data=stud,hue='famsize')
<matplotlib.axes._subplots.AxesSubplot at 0x1b258abcdc8>

Вывод:
Учащиеся из семей, родители в которых проживают раздельно, показывают более стабильный результат на экзамене. У них фиксируется наименьший разброс между минимальным и максимальным баллами, при этом минимальный бал наибольший

sns.boxplot(x='Mjob',y='score',data=stud,hue='famsize')
<matplotlib.axes._subplots.AxesSubplot at 0x1b256a7eec8>

sns.boxplot(x='Fjob',y='score',data=stud,hue='famsize')
<matplotlib.axes._subplots.AxesSubplot at 0x1b258b0d888>

stud.loc[stud['famsize'] == 'GT3'][['school','sex','age','famsize', 'Fjob', 'Mjob','score']].sort_values(['score'],ascending = True).head(30)
school	sex	age	famsize	Fjob	Mjob	score
389	MS	F	18	GT3	other	other	0.0
130	GP	F	15	GT3	teacher	services	0.0
131	GP	F	15	GT3	other	at_home	0.0
134	GP	M	15	GT3	teacher	at_home	0.0
135	GP	F	15	GT3	None	services	0.0
136	GP	M	17	GT3	other	at_home	0.0
137	GP	F	16	GT3	other	other	0.0
140	GP	M	15	GT3	services	teacher	0.0
144	GP	M	17	GT3	other	other	0.0
146	GP	F	15	GT3	services	health	0.0
148	GP	M	16	GT3	teacher	teacher	0.0
153	GP	M	19	GT3	at_home	services	0.0
168	GP	F	16	GT3	other	other	0.0
170	GP	M	16	GT3	other	other	0.0
173	GP	F	16	GT3	services	at_home	0.0
387	MS	F	19	GT3	other	services	0.0
334	GP	F	18	GT3	other	at_home	0.0
343	GP	F	17	GT3	at_home	at_home	0.0
341	GP	M	18	GT3	None	teacher	0.0
337	GP	F	17	GT3	other	None	0.0
239	GP	M	18	GT3	services	other	0.0
332	GP	F	18	GT3	services	services	0.0
383	MS	M	19	GT3	services	other	0.0
316	GP	F	18	GT3	None	services	0.0
269	GP	F	18	GT3	other	other	0.0
264	GP	F	18	GT3	services	at_home	0.0
296	GP	F	19	GT3	other	health	0.0
216	GP	F	17	GT3	None	other	20.0
18	GP	M	17	GT3	services	services	25.0
72	GP	F	15	GT3	other	other	25.0
Вывод:
Наименьший балл = 0 получили ученики из семей состоящих из более 3-х человек, матери которых работают на гос.службе, а отцы учителя, или безработные

sns.boxplot(x='reason',y='score',data=stud,hue='famsize')
<matplotlib.axes._subplots.AxesSubplot at 0x1b258d23988>

Вывод:
Самый большой средний бал = 60(выше среднего в массиве = 55) у учеников из семей менее 3-х человек, причиной выбора школы у которых в прочей категории

sns.boxplot(x='guardian',y='score',data=stud,hue='famsize')
<matplotlib.axes._subplots.AxesSubplot at 0x1b258d439c8>

display(pd.DataFrame(stud.guardian.value_counts()))
print("Значений, встретившихся в столбце:"
      , (stud.guardian.value_counts()).sum())
stud.loc[:, ['guardian']].info()
guardian
mother	245
father	84
other	26
Значений, встретившихся в столбце: 355
<class 'pandas.core.frame.DataFrame'>
Int64Index: 383 entries, 0 to 394
Data columns (total 1 columns):
 #   Column    Non-Null Count  Dtype 
---  ------    --------------  ----- 
 0   guardian  355 non-null    object
dtypes: object(1)
memory usage: 16.0+ KB
stud.loc[stud['guardian'] == 'mother'][['school','sex','age','address','score']].sort_values(['score'],ascending = True)
school	sex	age	address	score
264	GP	F	18	U	0.0
332	GP	F	18	U	0.0
334	GP	F	18	R	0.0
337	GP	F	17	U	0.0
221	GP	F	17	U	0.0
...	...	...	...	...	...
110	GP	M	15	U	95.0
286	GP	F	18	U	95.0
113	GP	M	15	U	95.0
8	GP	M	15	U	95.0
47	GP	M	16	U	100.0
245 rows × 5 columns

Вывод:
Личность опекуна не оказывает определяющего влияния на успеваемость учеников

sns.boxplot(x='schoolsup',y='score',data=stud,hue='famsup')
<matplotlib.axes._subplots.AxesSubplot at 0x1b259030548>

Вывод:
При наличие дополнительного образования и при наличии семейной образовательной поддержке результаты в основном ниже среднего.

stud.loc[stud['sex'] == 'F'][['famsup','school','age','paid', 'activities', 'nursery','score']].sort_values(['score'],ascending = True)
famsup	school	age	paid	activities	nursery	score
389	no	MS	18	no	yes	yes	0.0
130	yes	GP	15	no	no	yes	0.0
131	yes	GP	15	no	yes	no	0.0
135	yes	GP	15	no	yes	yes	0.0
137	yes	GP	16	no	yes	no	0.0
...	...	...	...	...	...	...	...
293	yes	GP	17	yes	no	yes	90.0
303	yes	GP	17	yes	yes	no	90.0
198	yes	GP	17	no	no	yes	90.0
286	yes	GP	18	yes	no	yes	95.0
374	no	MS	18	no	no	yes	95.0
203 rows × 7 columns

stud.loc[stud['sex'] == 'M'][['famsup','school','age','paid', 'activities', 'nursery','score']].sort_values(['score'],ascending = True)
famsup	school	age	paid	activities	nursery	score
148	yes	GP	16	None	no	yes	0.0
160	no	GP	17	no	None	yes	0.0
239	no	GP	18	no	no	yes	0.0
153	yes	GP	19	no	no	yes	0.0
150	no	GP	18	no	no	yes	0.0
...	...	...	...	...	...	...	...
245	no	GP	16	no	no	yes	90.0
113	no	GP	15	no	no	yes	95.0
8	yes	GP	15	yes	no	yes	95.0
110	no	GP	15	no	yes	yes	95.0
47	no	GP	16	no	yes	yes	100.0
180 rows × 7 columns

stud.loc[stud['school'] == 'GP'][['famsup','sex','age','paid', 'activities', 'nursery','score']].sort_values(['score'],ascending = True)
famsup	sex	age	paid	activities	nursery	score
173	no	F	16	no	yes	no	0.0
162	no	M	16	no	yes	yes	0.0
160	no	M	17	no	None	yes	0.0
153	yes	M	19	no	no	yes	0.0
150	no	M	18	no	no	yes	0.0
...	...	...	...	...	...	...	...
110	no	M	15	no	yes	yes	95.0
113	no	M	15	no	no	yes	95.0
8	yes	M	15	yes	no	yes	95.0
286	yes	F	18	yes	no	yes	95.0
47	no	M	16	no	yes	yes	100.0
340 rows × 7 columns

stud.loc[stud['school'] == 'MS'][['famsup','sex','age','paid', 'activities', 'nursery','score']].sort_values(['score'],ascending = True)
famsup	sex	age	paid	activities	nursery	score
389	no	F	18	no	yes	yes	0.0
387	no	F	19	no	yes	no	0.0
383	no	M	19	no	no	None	0.0
367	yes	F	17	yes	no	yes	0.0
384	no	M	18	None	no	yes	25.0
373	no	F	17	no	yes	yes	25.0
386	yes	F	18	yes	yes	yes	30.0
381	no	M	18	no	yes	no	35.0
388	yes	F	18	yes	no	yes	40.0
352	no	M	18	no	no	yes	40.0
353	yes	M	19	no	no	yes	40.0
370	no	F	19	no	yes	yes	45.0
394	no	M	19	no	no	yes	45.0
355	yes	F	18	no	no	yes	45.0
362	yes	F	18	no	no	yes	50.0
385	no	F	18	yes	no	yes	50.0
382	no	M	17	no	yes	yes	50.0
358	no	M	18	no	no	no	50.0
379	yes	F	17	yes	yes	no	50.0
375	no	F	18	no	no	yes	50.0
393	no	M	18	no	None	no	50.0
377	no	F	18	yes	yes	yes	50.0
365	yes	M	18	yes	no	None	50.0
368	yes	F	18	yes	no	yes	50.0
372	no	F	17	no	yes	yes	55.0
350	no	M	19	no	no	None	55.0
354	yes	M	17	yes	yes	no	55.0
357	no	F	17	no	no	yes	55.0
369	yes	F	18	yes	no	no	55.0
364	no	F	17	no	no	no	60.0
371	yes	M	18	None	yes	yes	60.0
361	no	M	18	no	yes	no	60.0
366	no	M	18	yes	no	yes	65.0
360	no	F	18	no	no	yes	65.0
356	yes	F	17	None	yes	yes	65.0
351	yes	M	17	yes	no	yes	65.0
349	yes	M	18	no	no	no	65.0
380	no	M	18	yes	yes	no	70.0
378	no	F	18	yes	no	yes	75.0
363	None	F	17	yes	yes	yes	75.0
359	no	F	18	no	no	None	80.0
391	no	M	17	no	no	no	80.0
374	no	F	18	no	no	yes	95.0
Итоговые выводы:
На результат учеников не оказывает никакого влияния выбор школы, личность опекуна, пол ученика
